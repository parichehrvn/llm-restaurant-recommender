{
 "cells": [
  {
   "cell_type": "code",
   "id": "initial_id",
   "metadata": {
    "collapsed": true,
    "ExecuteTime": {
     "end_time": "2025-09-04T14:30:01.353434Z",
     "start_time": "2025-09-04T14:30:00.587197Z"
    }
   },
   "source": [
    "from api import rag\n",
    "from dotenv import load_dotenv\n",
    "import os"
   ],
   "outputs": [],
   "execution_count": 10
  },
  {
   "metadata": {
    "ExecuteTime": {
     "end_time": "2025-09-04T14:30:02.087613Z",
     "start_time": "2025-09-04T14:30:02.082684Z"
    }
   },
   "cell_type": "code",
   "source": [
    "load_dotenv()\n",
    "API_KEY = os.getenv('GOOGLE_API_KEY')\n",
    "os.environ[\"http_proxy\"] = \"http://127.0.0.1:2081\""
   ],
   "id": "4ac3036879f50a4e",
   "outputs": [],
   "execution_count": 11
  },
  {
   "metadata": {
    "ExecuteTime": {
     "end_time": "2025-09-02T19:04:09.579986Z",
     "start_time": "2025-09-02T19:04:02.393587Z"
    }
   },
   "cell_type": "code",
   "source": [
    "result = rag.get_suggestions('where can I find best pizza')\n",
    "result"
   ],
   "id": "895ae6b5aa99570e",
   "outputs": [
    {
     "name": "stdout",
     "output_type": "stream",
     "text": [
      "['{\"restaurant_name\": \"Slices Pizza\", \"review\": \"Pizza is pretty good, prices are reasonable, portions are decent, and they\\'re open late on the weekends. Location is pretty convenient too - especially coming from one of the local bars. I think Frank\\'s has better pizza, but they close much earlier.\", \"location\": \"Philadelphia, PA, 4249 Ridge Ave\"}', '{\"restaurant_name\": \"Fiamme Pizza\", \"review\": \"We had their pizza for a long time at the Rillito farmer\\'s market and finally they have a brick and table place. This is hands down one of the best pizzas I have had and among the top 3 (Florence included). It is thin crust so it you are looking for Chicago style, you will be disappointed. Their caprese pizza with pine nuts is amazing. They have won international competitions and it shows.\", \"location\": \"Tucson, AZ, 4706 E Sunrise Dr\"}', '{\"restaurant_name\": \"Top Tomato Bar & Pizza\", \"review\": \"Okay pizza. My co-workers rave about it but I found their pizza to be average.  They do have a huge selection of options which is unusual. \\\\n\\\\nThe best is the tomato pie.  You can order by the slice or by the pizza.  Good for a quick lunch!\", \"location\": \"Philadelphia, PA, 116 S 11th St\"}', '{\"restaurant_name\": \"Fresco Pizzeria\", \"review\": \"This is hands down one of the best if not the best pizza I\\'ve had. And this was a GF, dairy free pizza! Usually with those requirements pizza tastes like garbage but even my husband said it was phenomenal. Better than his. The amount of toppings you can choose for only $8?!\", \"location\": \"Tucson, AZ, 3011 E Speedway Blvd\"}', '{\"restaurant_name\": \"La Bella Pizzeria & Ristorante Italiano\", \"review\": \"without a doubt the best pizza in the Medford New Jersey area . Yelp please correct the name of this pizzeria it is la Bella!!\\\\nmaybe there are one or two places locally who make the grandmothers pie as good or better than they do but as far as the margarita pizza nobody makes it better. no one and I mean no one locally makes a better buffalo chicken pizza. \\\\n\\\\nI do not feel compelled to run to Philadelphia to get a seven or eight inch pizza at one of the Yuppie palaces and spend $16.. and also be clipped in the feet by the constant clang of baby strollers. \\\\n my treat is getting on my bicycle riding 10 or 15 miles to this place having a giant slice of pizza and then riding it off home. they have a wonderful outdoor patio.. and when the wind is calm there\\'s nothing better. \\\\nservice is always excellent and  a lot of times they have the little Italian fried doughs with powdered sugar as a complementary dessert .\\\\nthe food on the regular menu is also very good . they have a small but charming dining room in the back. they also have coupons out there and take them with a smile on their face .\\\\nthis is an honest review I am NOT related to anyone there.\", \"location\": \"Medford, NJ, 199 Medford Mt Holly Rd\"}', '{\"restaurant_name\": \"MOD Pizza\", \"review\": \"Just tried this place for the first time. What a fantastic find. The ingredients were fresh and the people were great. \\\\n\\\\nIf you\\'re on the northwest side and looking to find a place we can design your own pizza, this is the place for you.\\\\n\\\\nGive them a try, you will not regret it.\", \"location\": \"Oro Valley, AZ, 10580 N Oracle Rd, Ste 150\"}']\n"
     ]
    },
    {
     "data": {
      "text/plain": [
       "'{\"greeting\": \"Hey there!  I\\'m excited to help you find the best pizza in town. Let\\'s explore some delicious options!\", \"suggestions\": [{\"restaurant_name\": \"Fiamme Pizza\", \"note\": \"Reviewers consistently praise Fiamme Pizza as one of the best, even comparing it favorably to pizzerias in Florence, Italy.  They highlight their thin crust and amazing caprese pizza.\", \"conclusion\": \"If you appreciate high-quality, award-winning pizza, Fiamme Pizza is an excellent choice.\"}, {\"restaurant_name\": \"Fresco Pizzeria\", \"note\": \"This pizzeria receives rave reviews, particularly for its gluten-free and dairy-free options, which are described as phenomenal even by non-restricted eaters.  The wide topping selection at a great price is also a plus.\", \"conclusion\": \"Fresco Pizzeria is highly recommended, especially if you need gluten-free or dairy-free options, but even otherwise, it\\'s considered exceptional.\"}, {\"restaurant_name\": \"La Bella Pizzeria & Ristorante Italiano\", \"note\": \"Considered the best pizza in the Medford, NJ area by many, La Bella Pizzeria is praised for its margarita and buffalo chicken pizzas.  The excellent service and charming atmosphere are additional highlights.\", \"conclusion\": \"For a great pizza experience with wonderful service and ambiance, La Bella Pizzeria is a top choice.\"}, {\"restaurant_name\": \"MOD Pizza\", \"note\": \"This restaurant offers a build-your-own pizza experience with fresh ingredients and is lauded for its great service and delicious pizzas.\", \"conclusion\": \"If you enjoy creating your own custom pizza with high-quality ingredients, MOD Pizza is a fantastic option.\"}, {\"restaurant_name\": \"Slices Pizza\", \"note\": \"While another place was mentioned as having better pizza, Slices Pizza still receives positive feedback for its decent pizza, reasonable prices, generous portions, and convenient late-night hours.\", \"conclusion\": \"Slices Pizza is a solid choice, particularly if you\\'re looking for a convenient and affordable option, especially late at night.\"}]}'"
      ]
     },
     "execution_count": 12,
     "metadata": {},
     "output_type": "execute_result"
    }
   ],
   "execution_count": 12
  },
  {
   "metadata": {
    "ExecuteTime": {
     "end_time": "2025-09-02T19:07:33.783530Z",
     "start_time": "2025-09-02T19:07:30.103107Z"
    }
   },
   "cell_type": "code",
   "source": "rag.get_summary('Fiamme Pizza')\n",
   "id": "afa1e72766711297",
   "outputs": [
    {
     "data": {
      "text/plain": [
       "'{\"restaurant_name\": \"Fiamme Pizza\", \"must_try_dishes\": [\"Carne pizza\", \"Margherita pizza\", \"Figo pizza\", \"Caprese salad\", \"Caprese pizza with pine nuts\"], \"highlights\": \"Amazing, authentic Neapolitan-style pizza with a wonderfully thin and crispy crust. Fresh, high-quality ingredients.  Friendly and passionate staff.  Excellent lunch specials. Many reviewers claim it\\'s the best pizza in Tucson, some even comparing it favorably to Pizzeria Bianco.\", \"notes\": \"Slow service is a recurring complaint. Limited seating and can be very busy, leading to long wait times.  Some mention inconsistencies with certain dishes (e.g., burnt breadsticks, garlic bread). Beverage options are considered limited.  Interior decor could be improved.\", \"conclusion\": \"Fiamme Pizza receives overwhelmingly positive feedback for its exceptional pizza, using fresh, high-quality ingredients and boasting an authentic Neapolitan style. However, the small space and slow service are significant drawbacks. Despite this, the exceptional quality of the pizza makes it a popular destination for many, even with the wait.\", \"rating\": 4.9, \"location\": \"Tucson, AZ, 4706 E Sunrise Dr\"}'"
      ]
     },
     "execution_count": 18,
     "metadata": {},
     "output_type": "execute_result"
    }
   ],
   "execution_count": 18
  },
  {
   "metadata": {
    "ExecuteTime": {
     "end_time": "2025-09-02T19:03:22.011754Z",
     "start_time": "2025-09-02T19:03:19.974640Z"
    }
   },
   "cell_type": "code",
   "source": "rag.restaurant_qna('Fiamme Pizza', 'what is the vibe of the restaurant?')",
   "id": "f3b151f34f8ed1c",
   "outputs": [
    {
     "data": {
      "text/plain": [
       "'{\"restaurant_name\": \"Fiamme Pizza\", \"answer\": \"Fiamme Pizza has a small, intimate atmosphere, described as being reminiscent of a narrow restaurant in Boston\\'s North End.  Many reviewers note the limited seating and busy environment, often recommending off-peak hours to avoid long waits.  The restaurant is immaculate and the staff is consistently praised for being friendly and welcoming.  The overall vibe is described as casual and laid-back, with a focus on high-quality, authentic Italian pizza and a warm, inviting atmosphere.\"}'"
      ]
     },
     "execution_count": 10,
     "metadata": {},
     "output_type": "execute_result"
    }
   ],
   "execution_count": 10
  },
  {
   "metadata": {
    "ExecuteTime": {
     "end_time": "2025-09-04T14:29:26.093637Z",
     "start_time": "2025-09-04T14:29:19.486247Z"
    }
   },
   "cell_type": "code",
   "source": [
    "from llama_index.embeddings.huggingface import HuggingFaceEmbedding\n",
    "from llama_index.core import Settings, StorageContext, load_index_from_storage, QueryBundle\n",
    "from llama_index.vector_stores.elasticsearch import ElasticsearchStore\n",
    "from llama_index.llms.gemini import Gemini"
   ],
   "id": "671d201430c4731f",
   "outputs": [
    {
     "name": "stderr",
     "output_type": "stream",
     "text": [
      "/home/parichehr/PycharmProjects/NLP/llm-restaurant-recommender/.venv/lib/python3.12/site-packages/tqdm/auto.py:21: TqdmWarning: IProgress not found. Please update jupyter and ipywidgets. See https://ipywidgets.readthedocs.io/en/stable/user_install.html\n",
      "  from .autonotebook import tqdm as notebook_tqdm\n"
     ]
    }
   ],
   "execution_count": 6
  },
  {
   "metadata": {
    "ExecuteTime": {
     "end_time": "2025-09-04T14:30:15.497281Z",
     "start_time": "2025-09-04T14:30:05.393281Z"
    }
   },
   "cell_type": "code",
   "source": [
    "Settings.embed_model = HuggingFaceEmbedding(model_name=\"sentence-transformers/all-MiniLM-L6-v2\")\n",
    "Settings.chunk_size = 2048\n",
    "llm = Gemini(model_name='models/gemini-1.5-flash', api_key=API_KEY)\n",
    "\n",
    "vector_store = ElasticsearchStore(\n",
    "    index_name='restaurant_reviews',\n",
    "    vector_field='review_vector',\n",
    "    text_field='review',\n",
    "    es_url='http://localhost:9200/'\n",
    ")\n",
    "\n",
    "storage_context = StorageContext.from_defaults(persist_dir='../notebooks/storage',\n",
    "                                               vector_store=vector_store)\n",
    "index = load_index_from_storage(storage_context=storage_context, index_id='vector_index')\n",
    "query_engine = index.as_query_engine(llm, similarity_top_k=10)\n",
    "\n",
    "# Query\n",
    "query = \"suggest best pizza spot\"\n",
    "bundle = QueryBundle(\n",
    "    query_str=query,\n",
    "    embedding=Settings.embed_model.get_query_embedding(query=query)\n",
    ")\n",
    "response = query_engine.query(bundle)\n",
    "print(response.response)"
   ],
   "id": "47b452c4f64a1754",
   "outputs": [
    {
     "name": "stderr",
     "output_type": "stream",
     "text": [
      "/tmp/ipykernel_25136/2318627713.py:3: DeprecationWarning: Call to deprecated class Gemini. (Should use `llama-index-llms-google-genai` instead, using Google's latest unified SDK. See: https://docs.llamaindex.ai/en/stable/examples/llm/google_genai/)\n",
      "  llm = Gemini(model_name='models/gemini-1.5-flash', api_key=API_KEY)\n"
     ]
    },
    {
     "name": "stdout",
     "output_type": "stream",
     "text": [
      "Loading llama_index.core.storage.kvstore.simple_kvstore from ../notebooks/storage/docstore.json.\n",
      "Loading llama_index.core.storage.kvstore.simple_kvstore from ../notebooks/storage/index_store.json.\n",
      "Several restaurants received top ratings.  One reviewer called a particular Indianapolis pizza place their favorite, praising its gourmet pizza with creative, fresh ingredients and flavorful dough. Another reviewer declared a Medford, NJ restaurant the best in the area, highlighting its excellent Margherita and Buffalo chicken pizzas, large slices, and friendly staff.  A Reno, NV establishment was also lauded for its amazing crust, fresh ingredients, and nice staff, with one reviewer calling it the best pizza in town.  Finally, a Santa Barbara, CA spot was described as having well-prepared and tasty pizza, making it a great place for a casual hangout.\n",
      "\n"
     ]
    }
   ],
   "execution_count": 12
  },
  {
   "metadata": {},
   "cell_type": "code",
   "outputs": [],
   "execution_count": null,
   "source": [
    "# from huggingface_hub import login\n",
    "# login(token=HF_TOKEN)"
   ],
   "id": "e2945102eb8284f0"
  },
  {
   "metadata": {},
   "cell_type": "code",
   "outputs": [],
   "execution_count": null,
   "source": [
    "os.environ[\"TORCH_USE_CUDA_DSA\"]='1'\n",
    "os.environ[\"CUDA_LAUNCH_BLOCKING\"]='1'"
   ],
   "id": "bbb07b23463f3d7e"
  },
  {
   "metadata": {},
   "cell_type": "code",
   "outputs": [],
   "execution_count": null,
   "source": [
    "# llm = HuggingFaceLLM(model_name=\"distilgpt2\",\n",
    "#                      device_map=\"cuda:0\",\n",
    "#                      max_new_tokens=100,\n",
    "#                      )\n",
    "llm = Gemini(model=\"models/gemma-3-27b-it\", api_key=API_KEY)\n",
    "\n",
    "query_engine = index.as_query_engine(llm, similarity_top_k=2)\n",
    "# Query\n",
    "query = \"what is best pizza spot in new york\"\n",
    "bundle = QueryBundle(\n",
    "    query_str=query,\n",
    "    embedding=Settings.embed_model.get_query_embedding(query=query)\n",
    ")\n",
    "response = query_engine.query(bundle)\n",
    "print(response.response)"
   ],
   "id": "f7bc3826452cd83e"
  },
  {
   "metadata": {},
   "cell_type": "code",
   "outputs": [],
   "execution_count": null,
   "source": [
    "import google.generativeai as genai\n",
    "\n",
    "genai.configure(api_key=API_KEY)\n",
    "\n",
    "model = genai.GenerativeModel(\"gemma-3-27b-it\")\n",
    "response = model.generate_content(\"What are sardines?\")\n",
    "print(response.text)"
   ],
   "id": "53c3807d91743d6f"
  },
  {
   "metadata": {
    "ExecuteTime": {
     "end_time": "2025-09-04T12:14:46.906551Z",
     "start_time": "2025-09-04T12:14:46.651891Z"
    }
   },
   "cell_type": "code",
   "source": [
    "from elasticsearch import Elasticsearch\n",
    "es = Elasticsearch(\"http://localhost:9200\")"
   ],
   "id": "c7dad8ae4e30465f",
   "outputs": [],
   "execution_count": 1
  },
  {
   "metadata": {
    "ExecuteTime": {
     "end_time": "2025-09-04T13:01:45.216611Z",
     "start_time": "2025-09-04T13:01:45.209045Z"
    }
   },
   "cell_type": "code",
   "source": "es.indices.get(index=\"*\")",
   "id": "5570df9d114bdb63",
   "outputs": [
    {
     "data": {
      "text/plain": [
       "ObjectApiResponse({'restaurant_reviews': {'aliases': {}, 'mappings': {'properties': {'metadata': {'properties': {'_node_content': {'type': 'text', 'fields': {'keyword': {'type': 'keyword', 'ignore_above': 256}}}, '_node_type': {'type': 'text', 'fields': {'keyword': {'type': 'keyword', 'ignore_above': 256}}}, 'doc_id': {'type': 'keyword'}, 'document_id': {'type': 'keyword'}, 'location': {'type': 'text', 'fields': {'keyword': {'type': 'keyword', 'ignore_above': 256}}}, 'rating': {'type': 'float'}, 'rating_category': {'type': 'text', 'fields': {'keyword': {'type': 'keyword', 'ignore_above': 256}}}, 'ref_doc_id': {'type': 'keyword'}, 'restaurant_name': {'type': 'text', 'fields': {'keyword': {'type': 'keyword', 'ignore_above': 256}}}, 'review': {'type': 'text', 'fields': {'keyword': {'type': 'keyword', 'ignore_above': 256}}}}}, 'review': {'type': 'text', 'fields': {'keyword': {'type': 'keyword', 'ignore_above': 256}}}, 'review_vector': {'type': 'dense_vector', 'dims': 384, 'index': True, 'similarity': 'cosine', 'index_options': {'type': 'int8_hnsw', 'm': 16, 'ef_construction': 100}}}}, 'settings': {'index': {'routing': {'allocation': {'include': {'_tier_preference': 'data_content'}}}, 'number_of_shards': '1', 'provided_name': 'restaurant_reviews', 'creation_date': '1756810568978', 'number_of_replicas': '1', 'uuid': 'mm4khXhGTl-L7SE0yOCqdQ', 'version': {'created': '8518000'}}}}, 'restaurant_reviews2': {'aliases': {}, 'mappings': {'properties': {'metadata': {'properties': {'_node_content': {'type': 'text', 'fields': {'keyword': {'type': 'keyword', 'ignore_above': 256}}}, '_node_type': {'type': 'text', 'fields': {'keyword': {'type': 'keyword', 'ignore_above': 256}}}, 'doc_id': {'type': 'keyword'}, 'document_id': {'type': 'keyword'}, 'location': {'type': 'text', 'fields': {'keyword': {'type': 'keyword', 'ignore_above': 256}}}, 'rating_category': {'type': 'text', 'fields': {'keyword': {'type': 'keyword', 'ignore_above': 256}}}, 'ref_doc_id': {'type': 'keyword'}, 'restaurant_name': {'type': 'text', 'fields': {'keyword': {'type': 'keyword', 'ignore_above': 256}}}, 'review': {'type': 'text', 'fields': {'keyword': {'type': 'keyword', 'ignore_above': 256}}}}}, 'review': {'type': 'text', 'fields': {'keyword': {'type': 'keyword', 'ignore_above': 256}}}, 'review_vector': {'type': 'dense_vector', 'dims': 384, 'index': True, 'similarity': 'cosine', 'index_options': {'type': 'int8_hnsw', 'm': 16, 'ef_construction': 100}}}}, 'settings': {'index': {'routing': {'allocation': {'include': {'_tier_preference': 'data_content'}}}, 'number_of_shards': '1', 'provided_name': 'restaurant_reviews2', 'creation_date': '1756566053506', 'number_of_replicas': '1', 'uuid': 'o9xJMLzkS8iBxcZFtdKoqQ', 'version': {'created': '8518000'}}}}, 'yelp_restaurant_reviews': {'aliases': {}, 'mappings': {'properties': {'metadata': {'properties': {'_node_content': {'type': 'text', 'fields': {'keyword': {'type': 'keyword', 'ignore_above': 256}}}, '_node_type': {'type': 'text', 'fields': {'keyword': {'type': 'keyword', 'ignore_above': 256}}}, 'doc_id': {'type': 'keyword'}, 'document_id': {'type': 'keyword'}, 'location': {'type': 'text', 'fields': {'keyword': {'type': 'keyword', 'ignore_above': 256}}}, 'rating': {'type': 'float'}, 'rating_category': {'type': 'text', 'fields': {'keyword': {'type': 'keyword', 'ignore_above': 256}}}, 'ref_doc_id': {'type': 'keyword'}, 'restaurant_name': {'type': 'text', 'fields': {'keyword': {'type': 'keyword', 'ignore_above': 256}}}, 'review': {'type': 'text', 'fields': {'keyword': {'type': 'keyword', 'ignore_above': 256}}}}}, 'review': {'type': 'text', 'fields': {'keyword': {'type': 'keyword', 'ignore_above': 256}}}, 'review_vector': {'type': 'dense_vector', 'dims': 768, 'index': True, 'similarity': 'cosine', 'index_options': {'type': 'int8_hnsw', 'm': 16, 'ef_construction': 100}}}}, 'settings': {'index': {'routing': {'allocation': {'include': {'_tier_preference': 'data_content'}}}, 'number_of_shards': '1', 'provided_name': 'yelp_restaurant_reviews', 'creation_date': '1756989355032', 'number_of_replicas': '1', 'uuid': 'l-b82zu0TACUudC3gnnQWQ', 'version': {'created': '8518000'}}}}})"
      ]
     },
     "execution_count": 3,
     "metadata": {},
     "output_type": "execute_result"
    }
   ],
   "execution_count": 3
  },
  {
   "metadata": {},
   "cell_type": "code",
   "source": "es.indices.delete(index='yelp_restaurant_reviews')",
   "id": "9ce2a7c6886dc9cc",
   "outputs": [],
   "execution_count": null
  },
  {
   "metadata": {},
   "cell_type": "code",
   "outputs": [],
   "execution_count": null,
   "source": "",
   "id": "73a9a44f7498b9c8"
  }
 ],
 "metadata": {
  "kernelspec": {
   "display_name": "Python 3",
   "language": "python",
   "name": "python3"
  },
  "language_info": {
   "codemirror_mode": {
    "name": "ipython",
    "version": 2
   },
   "file_extension": ".py",
   "mimetype": "text/x-python",
   "name": "python",
   "nbconvert_exporter": "python",
   "pygments_lexer": "ipython2",
   "version": "2.7.6"
  }
 },
 "nbformat": 4,
 "nbformat_minor": 5
}
