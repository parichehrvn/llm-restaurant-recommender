{
 "cells": [
  {
   "cell_type": "code",
   "id": "initial_id",
   "metadata": {
    "collapsed": true,
    "ExecuteTime": {
     "end_time": "2025-08-30T14:55:32.570233Z",
     "start_time": "2025-08-30T14:55:32.559721Z"
    }
   },
   "source": [
    "import pandas as pd\n",
    "import json\n",
    "from pathlib import Path"
   ],
   "outputs": [],
   "execution_count": 13
  },
  {
   "metadata": {
    "ExecuteTime": {
     "end_time": "2025-08-30T14:55:41.908085Z",
     "start_time": "2025-08-30T14:55:34.533995Z"
    }
   },
   "cell_type": "code",
   "source": "business_df = pd.read_json(r\"../data/raw/yelp_academic_dataset_business.json\", lines=True)",
   "id": "490d8767446179be",
   "outputs": [],
   "execution_count": 14
  },
  {
   "metadata": {
    "ExecuteTime": {
     "end_time": "2025-08-30T14:55:43.560785Z",
     "start_time": "2025-08-30T14:55:43.389695Z"
    }
   },
   "cell_type": "code",
   "source": [
    "# Keep only businesses with \"Restaurant\" or \"Food\" in categories\n",
    "business_df = business_df[business_df[\"categories\"].str.contains(\"Restaurants | Food\", na=False)]\n",
    "# Select relevant fields\n",
    "business_df = business_df[[\"business_id\", \"name\", \"city\", \"address\", \"state\", \"categories\"]]"
   ],
   "id": "da2f1b2b66c86410",
   "outputs": [],
   "execution_count": 15
  },
  {
   "metadata": {
    "ExecuteTime": {
     "end_time": "2025-08-30T14:55:46.246140Z",
     "start_time": "2025-08-30T14:55:44.842697Z"
    }
   },
   "cell_type": "code",
   "source": [
    "# For simplicity, limit to first 100,000 reviews (adjust as needed)\n",
    "review_data = []\n",
    "with open(r\"../data/raw/yelp_academic_dataset_review.json\", encoding=\"utf-8\") as f:\n",
    "    for i, line in enumerate(f):\n",
    "        if i >= 100000:  # Limit for demo; remove for full dataset\n",
    "            break\n",
    "        review_data.append(json.loads(line))\n",
    "\n",
    "# Convert to DataFrame and select relevant fields\n",
    "review_df = pd.DataFrame(review_data)\n",
    "review_df = review_df[[\"business_id\", \"stars\", \"text\"]]"
   ],
   "id": "275daf39c9440b87",
   "outputs": [],
   "execution_count": 16
  },
  {
   "metadata": {
    "ExecuteTime": {
     "end_time": "2025-08-30T14:55:47.774038Z",
     "start_time": "2025-08-30T14:55:47.719772Z"
    }
   },
   "cell_type": "code",
   "source": "merged_df = pd.merge(business_df, review_df, on=\"business_id\", how=\"inner\")",
   "id": "2e4c7551ecf89147",
   "outputs": [],
   "execution_count": 17
  },
  {
   "metadata": {
    "ExecuteTime": {
     "end_time": "2025-08-26T10:46:34.632512Z",
     "start_time": "2025-08-26T10:46:34.613478Z"
    }
   },
   "cell_type": "code",
   "source": "merged_df.head()",
   "id": "2d498fdbfcbf6cae",
   "outputs": [
    {
     "data": {
      "text/plain": [
       "              business_id                name          city      address  \\\n",
       "0  MTSW4McQd7CbVtyjqoe9mw  St Honore Pastries  Philadelphia  935 Race St   \n",
       "1  MTSW4McQd7CbVtyjqoe9mw  St Honore Pastries  Philadelphia  935 Race St   \n",
       "2  MTSW4McQd7CbVtyjqoe9mw  St Honore Pastries  Philadelphia  935 Race St   \n",
       "3  MTSW4McQd7CbVtyjqoe9mw  St Honore Pastries  Philadelphia  935 Race St   \n",
       "4  MTSW4McQd7CbVtyjqoe9mw  St Honore Pastries  Philadelphia  935 Race St   \n",
       "\n",
       "  state                                         categories  stars  \\\n",
       "0    PA  Restaurants, Food, Bubble Tea, Coffee & Tea, B...    4.0   \n",
       "1    PA  Restaurants, Food, Bubble Tea, Coffee & Tea, B...    4.0   \n",
       "2    PA  Restaurants, Food, Bubble Tea, Coffee & Tea, B...    5.0   \n",
       "3    PA  Restaurants, Food, Bubble Tea, Coffee & Tea, B...    5.0   \n",
       "4    PA  Restaurants, Food, Bubble Tea, Coffee & Tea, B...    4.0   \n",
       "\n",
       "                                                text  \n",
       "0  This is nice little Chinese bakery in the hear...  \n",
       "1  This is the bakery I usually go to in Chinatow...  \n",
       "2  A delightful find in Chinatown! Very clean, an...  \n",
       "3  I ordered a graduation cake for my niece and i...  \n",
       "4  HK-STYLE MILK TEA:  FOUR STARS\\n\\nNot quite su...  "
      ],
      "text/html": [
       "<div>\n",
       "<style scoped>\n",
       "    .dataframe tbody tr th:only-of-type {\n",
       "        vertical-align: middle;\n",
       "    }\n",
       "\n",
       "    .dataframe tbody tr th {\n",
       "        vertical-align: top;\n",
       "    }\n",
       "\n",
       "    .dataframe thead th {\n",
       "        text-align: right;\n",
       "    }\n",
       "</style>\n",
       "<table border=\"1\" class=\"dataframe\">\n",
       "  <thead>\n",
       "    <tr style=\"text-align: right;\">\n",
       "      <th></th>\n",
       "      <th>business_id</th>\n",
       "      <th>name</th>\n",
       "      <th>city</th>\n",
       "      <th>address</th>\n",
       "      <th>state</th>\n",
       "      <th>categories</th>\n",
       "      <th>stars</th>\n",
       "      <th>text</th>\n",
       "    </tr>\n",
       "  </thead>\n",
       "  <tbody>\n",
       "    <tr>\n",
       "      <th>0</th>\n",
       "      <td>MTSW4McQd7CbVtyjqoe9mw</td>\n",
       "      <td>St Honore Pastries</td>\n",
       "      <td>Philadelphia</td>\n",
       "      <td>935 Race St</td>\n",
       "      <td>PA</td>\n",
       "      <td>Restaurants, Food, Bubble Tea, Coffee &amp; Tea, B...</td>\n",
       "      <td>4.0</td>\n",
       "      <td>This is nice little Chinese bakery in the hear...</td>\n",
       "    </tr>\n",
       "    <tr>\n",
       "      <th>1</th>\n",
       "      <td>MTSW4McQd7CbVtyjqoe9mw</td>\n",
       "      <td>St Honore Pastries</td>\n",
       "      <td>Philadelphia</td>\n",
       "      <td>935 Race St</td>\n",
       "      <td>PA</td>\n",
       "      <td>Restaurants, Food, Bubble Tea, Coffee &amp; Tea, B...</td>\n",
       "      <td>4.0</td>\n",
       "      <td>This is the bakery I usually go to in Chinatow...</td>\n",
       "    </tr>\n",
       "    <tr>\n",
       "      <th>2</th>\n",
       "      <td>MTSW4McQd7CbVtyjqoe9mw</td>\n",
       "      <td>St Honore Pastries</td>\n",
       "      <td>Philadelphia</td>\n",
       "      <td>935 Race St</td>\n",
       "      <td>PA</td>\n",
       "      <td>Restaurants, Food, Bubble Tea, Coffee &amp; Tea, B...</td>\n",
       "      <td>5.0</td>\n",
       "      <td>A delightful find in Chinatown! Very clean, an...</td>\n",
       "    </tr>\n",
       "    <tr>\n",
       "      <th>3</th>\n",
       "      <td>MTSW4McQd7CbVtyjqoe9mw</td>\n",
       "      <td>St Honore Pastries</td>\n",
       "      <td>Philadelphia</td>\n",
       "      <td>935 Race St</td>\n",
       "      <td>PA</td>\n",
       "      <td>Restaurants, Food, Bubble Tea, Coffee &amp; Tea, B...</td>\n",
       "      <td>5.0</td>\n",
       "      <td>I ordered a graduation cake for my niece and i...</td>\n",
       "    </tr>\n",
       "    <tr>\n",
       "      <th>4</th>\n",
       "      <td>MTSW4McQd7CbVtyjqoe9mw</td>\n",
       "      <td>St Honore Pastries</td>\n",
       "      <td>Philadelphia</td>\n",
       "      <td>935 Race St</td>\n",
       "      <td>PA</td>\n",
       "      <td>Restaurants, Food, Bubble Tea, Coffee &amp; Tea, B...</td>\n",
       "      <td>4.0</td>\n",
       "      <td>HK-STYLE MILK TEA:  FOUR STARS\\n\\nNot quite su...</td>\n",
       "    </tr>\n",
       "  </tbody>\n",
       "</table>\n",
       "</div>"
      ]
     },
     "execution_count": 11,
     "metadata": {},
     "output_type": "execute_result"
    }
   ],
   "execution_count": 11
  },
  {
   "metadata": {
    "ExecuteTime": {
     "end_time": "2025-08-30T14:55:49.930Z",
     "start_time": "2025-08-30T14:55:49.917883Z"
    }
   },
   "cell_type": "code",
   "source": [
    "merged_df = merged_df.rename(columns={\n",
    "    \"name\": \"restaurant_name\",\n",
    "    \"text\": \"review\",\n",
    "    \"stars\": \"rating\"\n",
    "})"
   ],
   "id": "3ece9de38e1a30c7",
   "outputs": [],
   "execution_count": 18
  },
  {
   "metadata": {
    "ExecuteTime": {
     "end_time": "2025-08-26T10:46:41.065811Z",
     "start_time": "2025-08-26T10:46:41.053157Z"
    }
   },
   "cell_type": "code",
   "source": "merged_df.head()",
   "id": "80353efb4fe1ad6e",
   "outputs": [
    {
     "data": {
      "text/plain": [
       "              business_id     restaurant_name          city      address  \\\n",
       "0  MTSW4McQd7CbVtyjqoe9mw  St Honore Pastries  Philadelphia  935 Race St   \n",
       "1  MTSW4McQd7CbVtyjqoe9mw  St Honore Pastries  Philadelphia  935 Race St   \n",
       "2  MTSW4McQd7CbVtyjqoe9mw  St Honore Pastries  Philadelphia  935 Race St   \n",
       "3  MTSW4McQd7CbVtyjqoe9mw  St Honore Pastries  Philadelphia  935 Race St   \n",
       "4  MTSW4McQd7CbVtyjqoe9mw  St Honore Pastries  Philadelphia  935 Race St   \n",
       "\n",
       "  state                                         categories  rating  \\\n",
       "0    PA  Restaurants, Food, Bubble Tea, Coffee & Tea, B...     4.0   \n",
       "1    PA  Restaurants, Food, Bubble Tea, Coffee & Tea, B...     4.0   \n",
       "2    PA  Restaurants, Food, Bubble Tea, Coffee & Tea, B...     5.0   \n",
       "3    PA  Restaurants, Food, Bubble Tea, Coffee & Tea, B...     5.0   \n",
       "4    PA  Restaurants, Food, Bubble Tea, Coffee & Tea, B...     4.0   \n",
       "\n",
       "                                              review  \n",
       "0  This is nice little Chinese bakery in the hear...  \n",
       "1  This is the bakery I usually go to in Chinatow...  \n",
       "2  A delightful find in Chinatown! Very clean, an...  \n",
       "3  I ordered a graduation cake for my niece and i...  \n",
       "4  HK-STYLE MILK TEA:  FOUR STARS\\n\\nNot quite su...  "
      ],
      "text/html": [
       "<div>\n",
       "<style scoped>\n",
       "    .dataframe tbody tr th:only-of-type {\n",
       "        vertical-align: middle;\n",
       "    }\n",
       "\n",
       "    .dataframe tbody tr th {\n",
       "        vertical-align: top;\n",
       "    }\n",
       "\n",
       "    .dataframe thead th {\n",
       "        text-align: right;\n",
       "    }\n",
       "</style>\n",
       "<table border=\"1\" class=\"dataframe\">\n",
       "  <thead>\n",
       "    <tr style=\"text-align: right;\">\n",
       "      <th></th>\n",
       "      <th>business_id</th>\n",
       "      <th>restaurant_name</th>\n",
       "      <th>city</th>\n",
       "      <th>address</th>\n",
       "      <th>state</th>\n",
       "      <th>categories</th>\n",
       "      <th>rating</th>\n",
       "      <th>review</th>\n",
       "    </tr>\n",
       "  </thead>\n",
       "  <tbody>\n",
       "    <tr>\n",
       "      <th>0</th>\n",
       "      <td>MTSW4McQd7CbVtyjqoe9mw</td>\n",
       "      <td>St Honore Pastries</td>\n",
       "      <td>Philadelphia</td>\n",
       "      <td>935 Race St</td>\n",
       "      <td>PA</td>\n",
       "      <td>Restaurants, Food, Bubble Tea, Coffee &amp; Tea, B...</td>\n",
       "      <td>4.0</td>\n",
       "      <td>This is nice little Chinese bakery in the hear...</td>\n",
       "    </tr>\n",
       "    <tr>\n",
       "      <th>1</th>\n",
       "      <td>MTSW4McQd7CbVtyjqoe9mw</td>\n",
       "      <td>St Honore Pastries</td>\n",
       "      <td>Philadelphia</td>\n",
       "      <td>935 Race St</td>\n",
       "      <td>PA</td>\n",
       "      <td>Restaurants, Food, Bubble Tea, Coffee &amp; Tea, B...</td>\n",
       "      <td>4.0</td>\n",
       "      <td>This is the bakery I usually go to in Chinatow...</td>\n",
       "    </tr>\n",
       "    <tr>\n",
       "      <th>2</th>\n",
       "      <td>MTSW4McQd7CbVtyjqoe9mw</td>\n",
       "      <td>St Honore Pastries</td>\n",
       "      <td>Philadelphia</td>\n",
       "      <td>935 Race St</td>\n",
       "      <td>PA</td>\n",
       "      <td>Restaurants, Food, Bubble Tea, Coffee &amp; Tea, B...</td>\n",
       "      <td>5.0</td>\n",
       "      <td>A delightful find in Chinatown! Very clean, an...</td>\n",
       "    </tr>\n",
       "    <tr>\n",
       "      <th>3</th>\n",
       "      <td>MTSW4McQd7CbVtyjqoe9mw</td>\n",
       "      <td>St Honore Pastries</td>\n",
       "      <td>Philadelphia</td>\n",
       "      <td>935 Race St</td>\n",
       "      <td>PA</td>\n",
       "      <td>Restaurants, Food, Bubble Tea, Coffee &amp; Tea, B...</td>\n",
       "      <td>5.0</td>\n",
       "      <td>I ordered a graduation cake for my niece and i...</td>\n",
       "    </tr>\n",
       "    <tr>\n",
       "      <th>4</th>\n",
       "      <td>MTSW4McQd7CbVtyjqoe9mw</td>\n",
       "      <td>St Honore Pastries</td>\n",
       "      <td>Philadelphia</td>\n",
       "      <td>935 Race St</td>\n",
       "      <td>PA</td>\n",
       "      <td>Restaurants, Food, Bubble Tea, Coffee &amp; Tea, B...</td>\n",
       "      <td>4.0</td>\n",
       "      <td>HK-STYLE MILK TEA:  FOUR STARS\\n\\nNot quite su...</td>\n",
       "    </tr>\n",
       "  </tbody>\n",
       "</table>\n",
       "</div>"
      ]
     },
     "execution_count": 13,
     "metadata": {},
     "output_type": "execute_result"
    }
   ],
   "execution_count": 13
  },
  {
   "metadata": {
    "ExecuteTime": {
     "end_time": "2025-08-26T10:46:43.863513Z",
     "start_time": "2025-08-26T10:46:43.852760Z"
    }
   },
   "cell_type": "code",
   "source": "merged_df.describe",
   "id": "66fb7df886a0de52",
   "outputs": [
    {
     "data": {
      "text/plain": [
       "<bound method NDFrame.describe of                   business_id               restaurant_name          city  \\\n",
       "0      MTSW4McQd7CbVtyjqoe9mw            St Honore Pastries  Philadelphia   \n",
       "1      MTSW4McQd7CbVtyjqoe9mw            St Honore Pastries  Philadelphia   \n",
       "2      MTSW4McQd7CbVtyjqoe9mw            St Honore Pastries  Philadelphia   \n",
       "3      MTSW4McQd7CbVtyjqoe9mw            St Honore Pastries  Philadelphia   \n",
       "4      MTSW4McQd7CbVtyjqoe9mw            St Honore Pastries  Philadelphia   \n",
       "...                       ...                           ...           ...   \n",
       "28444  TCROPjxfzCZzrQjqLqstSg  Red Cup Cafe & Hookah Lounge  Philadelphia   \n",
       "28445  TCROPjxfzCZzrQjqLqstSg  Red Cup Cafe & Hookah Lounge  Philadelphia   \n",
       "28446  TCROPjxfzCZzrQjqLqstSg  Red Cup Cafe & Hookah Lounge  Philadelphia   \n",
       "28447  TCROPjxfzCZzrQjqLqstSg  Red Cup Cafe & Hookah Lounge  Philadelphia   \n",
       "28448  TCROPjxfzCZzrQjqLqstSg  Red Cup Cafe & Hookah Lounge  Philadelphia   \n",
       "\n",
       "                 address state  \\\n",
       "0            935 Race St    PA   \n",
       "1            935 Race St    PA   \n",
       "2            935 Race St    PA   \n",
       "3            935 Race St    PA   \n",
       "4            935 Race St    PA   \n",
       "...                  ...   ...   \n",
       "28444  400 Fairmount Ave    PA   \n",
       "28445  400 Fairmount Ave    PA   \n",
       "28446  400 Fairmount Ave    PA   \n",
       "28447  400 Fairmount Ave    PA   \n",
       "28448  400 Fairmount Ave    PA   \n",
       "\n",
       "                                              categories  rating  \\\n",
       "0      Restaurants, Food, Bubble Tea, Coffee & Tea, B...     4.0   \n",
       "1      Restaurants, Food, Bubble Tea, Coffee & Tea, B...     4.0   \n",
       "2      Restaurants, Food, Bubble Tea, Coffee & Tea, B...     5.0   \n",
       "3      Restaurants, Food, Bubble Tea, Coffee & Tea, B...     5.0   \n",
       "4      Restaurants, Food, Bubble Tea, Coffee & Tea, B...     4.0   \n",
       "...                                                  ...     ...   \n",
       "28444  Coffee & Tea, Hookah Bars, Nightlife, Bars, Fo...     5.0   \n",
       "28445  Coffee & Tea, Hookah Bars, Nightlife, Bars, Fo...     3.0   \n",
       "28446  Coffee & Tea, Hookah Bars, Nightlife, Bars, Fo...     5.0   \n",
       "28447  Coffee & Tea, Hookah Bars, Nightlife, Bars, Fo...     5.0   \n",
       "28448  Coffee & Tea, Hookah Bars, Nightlife, Bars, Fo...     2.0   \n",
       "\n",
       "                                                  review  \n",
       "0      This is nice little Chinese bakery in the hear...  \n",
       "1      This is the bakery I usually go to in Chinatow...  \n",
       "2      A delightful find in Chinatown! Very clean, an...  \n",
       "3      I ordered a graduation cake for my niece and i...  \n",
       "4      HK-STYLE MILK TEA:  FOUR STARS\\n\\nNot quite su...  \n",
       "...                                                  ...  \n",
       "28444  Rick, the owner, makes crepes!  And good ones ...  \n",
       "28445  Ok, I accidentally discovered this place on my...  \n",
       "28446  Red Cup Cafe is fantastic.  Sweet or savory, c...  \n",
       "28447  Today my roommate and I stopped by Red Cup Caf...  \n",
       "28448  The coffee here was decent. So there's that. \\...  \n",
       "\n",
       "[28449 rows x 8 columns]>"
      ]
     },
     "execution_count": 14,
     "metadata": {},
     "output_type": "execute_result"
    }
   ],
   "execution_count": 14
  },
  {
   "metadata": {
    "ExecuteTime": {
     "end_time": "2025-08-30T14:55:54.235248Z",
     "start_time": "2025-08-30T14:55:54.231120Z"
    }
   },
   "cell_type": "code",
   "source": [
    "# Function to derive rating_category\n",
    "def get_rating_category(rating):\n",
    "    if rating >= 4:\n",
    "        return \"Positive\"\n",
    "    elif rating == 3:\n",
    "        return \"Neutral\"\n",
    "    else:\n",
    "        return \"Negative\""
   ],
   "id": "31c15493e910a6e4",
   "outputs": [],
   "execution_count": 19
  },
  {
   "metadata": {
    "ExecuteTime": {
     "end_time": "2025-08-30T14:56:00.416425Z",
     "start_time": "2025-08-30T14:56:00.405445Z"
    }
   },
   "cell_type": "code",
   "source": [
    "# Create rating_category\n",
    "merged_df[\"rating_category\"] = merged_df[\"rating\"].apply(get_rating_category)"
   ],
   "id": "f6b295593a087632",
   "outputs": [],
   "execution_count": 20
  },
  {
   "metadata": {
    "ExecuteTime": {
     "end_time": "2025-08-30T14:56:03.670823Z",
     "start_time": "2025-08-30T14:56:03.558517Z"
    }
   },
   "cell_type": "code",
   "source": [
    "# Combine city and state for location\n",
    "# merged_df[\"location\"] = merged_df[\"city\"] + \", \" + merged_df[\"state\"]\n",
    "merged_df[\"location\"] = merged_df[[\"city\", \"state\", \"address\"]].agg(\", \".join, axis=1)\n",
    "# merged_df[\"review\"] = merged_df[[\"review\", \"categories\"]].agg(\", \".join, axis=1)"
   ],
   "id": "8ac6feb39ae620d2",
   "outputs": [],
   "execution_count": 21
  },
  {
   "metadata": {
    "ExecuteTime": {
     "end_time": "2025-08-30T14:56:06.544797Z",
     "start_time": "2025-08-30T14:56:06.530451Z"
    }
   },
   "cell_type": "code",
   "source": [
    "# Select final columns\n",
    "final_df = merged_df[[\"restaurant_name\", \"review\", \"rating\", \"rating_category\", \"location\"]]"
   ],
   "id": "e00cf1036a4c8a6e",
   "outputs": [],
   "execution_count": 22
  },
  {
   "metadata": {
    "ExecuteTime": {
     "end_time": "2025-08-30T14:56:07.786246Z",
     "start_time": "2025-08-30T14:56:07.725325Z"
    }
   },
   "cell_type": "code",
   "source": "final_df.info()",
   "id": "cc237df6258b41d8",
   "outputs": [
    {
     "name": "stdout",
     "output_type": "stream",
     "text": [
      "<class 'pandas.core.frame.DataFrame'>\n",
      "RangeIndex: 28449 entries, 0 to 28448\n",
      "Data columns (total 5 columns):\n",
      " #   Column           Non-Null Count  Dtype  \n",
      "---  ------           --------------  -----  \n",
      " 0   restaurant_name  28449 non-null  object \n",
      " 1   review           28449 non-null  object \n",
      " 2   rating           28449 non-null  float64\n",
      " 3   rating_category  28449 non-null  object \n",
      " 4   location         28449 non-null  object \n",
      "dtypes: float64(1), object(4)\n",
      "memory usage: 1.1+ MB\n"
     ]
    }
   ],
   "execution_count": 23
  },
  {
   "metadata": {
    "ExecuteTime": {
     "end_time": "2025-08-30T14:56:10.811384Z",
     "start_time": "2025-08-30T14:56:10.805427Z"
    }
   },
   "cell_type": "code",
   "source": "final_df[\"review\"][0]",
   "id": "4e940ceaaba8aba1",
   "outputs": [
    {
     "data": {
      "text/plain": [
       "\"This is nice little Chinese bakery in the heart of Philadelphia's Chinatown! The female cashier was very friendly (flirtatious!) and the pastries shown in nicely adorned display cases. I stopped by early one evening had a sesame ball, which was filled with bean paste. The glutinous rice of the ball was nicely flavored, similar to Bai Tang Gao. Definitely as place worth stopping at if you are in the area.\""
      ]
     },
     "execution_count": 24,
     "metadata": {},
     "output_type": "execute_result"
    }
   ],
   "execution_count": 24
  },
  {
   "metadata": {
    "ExecuteTime": {
     "end_time": "2025-08-30T14:56:15.060253Z",
     "start_time": "2025-08-30T14:56:14.811722Z"
    }
   },
   "cell_type": "code",
   "source": [
    "# Save to CSV\n",
    "output_path = Path(r\"../data/final\")\n",
    "output_path.mkdir(parents=True, exist_ok=True)\n",
    "final_df.to_csv(r\"../data/final/final_restaurant_reviews.csv\" , index=False)"
   ],
   "id": "320b697e7a54f83c",
   "outputs": [],
   "execution_count": 25
  }
 ],
 "metadata": {
  "kernelspec": {
   "display_name": "Python 3",
   "language": "python",
   "name": "python3"
  },
  "language_info": {
   "codemirror_mode": {
    "name": "ipython",
    "version": 2
   },
   "file_extension": ".py",
   "mimetype": "text/x-python",
   "name": "python",
   "nbconvert_exporter": "python",
   "pygments_lexer": "ipython2",
   "version": "2.7.6"
  }
 },
 "nbformat": 4,
 "nbformat_minor": 5
}
