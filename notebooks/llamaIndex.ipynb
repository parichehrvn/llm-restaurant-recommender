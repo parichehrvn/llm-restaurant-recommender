{
 "cells": [
  {
   "cell_type": "code",
   "id": "initial_id",
   "metadata": {
    "collapsed": true
   },
   "source": [
    "import os\n",
    "from dotenv import load_dotenv\n",
    "import pandas as pd\n",
    "from llama_index.core import Document, VectorStoreIndex, Settings, StorageContext, QueryBundle\n",
    "from llama_index.llms.gemini import Gemini\n",
    "from llama_index.embeddings.gemini import GeminiEmbedding\n",
    "from llama_index.vector_stores.elasticsearch import ElasticsearchStore\n",
    "# from llama_index.embeddings.huggingface import HuggingFaceEmbedding\n",
    "# from llama_index.llms.huggingface import HuggingFaceLLM\n",
    "from llama_index.embeddings.ollama import OllamaEmbedding"
   ],
   "outputs": [],
   "execution_count": null
  },
  {
   "metadata": {
    "ExecuteTime": {
     "end_time": "2025-09-02T10:52:03.973303Z",
     "start_time": "2025-09-02T10:52:03.968493Z"
    }
   },
   "cell_type": "code",
   "source": [
    "load_dotenv()\n",
    "HF_TOKEN = os.getenv(\"HUGGING_FACE_TOKEN\")\n",
    "API_KEY = os.getenv(\"GEMINI_API_KEY\")\n",
    "os.environ[\"http_proxy\"] = \"http://127.0.0.1:2081\""
   ],
   "id": "ec6b0dd03cf4d488",
   "outputs": [],
   "execution_count": 2
  },
  {
   "metadata": {
    "ExecuteTime": {
     "end_time": "2025-09-02T10:53:58.116294Z",
     "start_time": "2025-09-02T10:53:58.077466Z"
    }
   },
   "cell_type": "code",
   "source": [
    "import torch\n",
    "print(\"PyTorch:\", torch.__version__)\n",
    "print(\"CUDA available:\", torch.cuda.is_available())\n",
    "print(\"CUDA version compiled:\", torch.version.cuda)\n",
    "print(\"Device count:\", torch.cuda.device_count())"
   ],
   "id": "d10690343dadd42c",
   "outputs": [
    {
     "name": "stdout",
     "output_type": "stream",
     "text": [
      "PyTorch: 2.8.0+cu128\n",
      "CUDA available: True\n",
      "CUDA version compiled: 12.8\n",
      "Device count: 1\n"
     ]
    }
   ],
   "execution_count": 2
  },
  {
   "metadata": {
    "ExecuteTime": {
     "end_time": "2025-09-02T10:53:59.786763Z",
     "start_time": "2025-09-02T10:53:59.688976Z"
    }
   },
   "cell_type": "code",
   "source": [
    "csv_file = '../data/final/final_restaurant_reviews.csv'\n",
    "df = pd.read_csv(csv_file)"
   ],
   "id": "3fd6b3cb16ccec26",
   "outputs": [],
   "execution_count": 3
  },
  {
   "metadata": {
    "ExecuteTime": {
     "end_time": "2025-09-02T10:42:01.153165Z",
     "start_time": "2025-09-02T10:42:01.140451Z"
    }
   },
   "cell_type": "code",
   "source": "df.head()",
   "id": "81d6a25fc7ac3590",
   "outputs": [
    {
     "data": {
      "text/plain": [
       "      restaurant_name                                             review  \\\n",
       "0  St Honore Pastries  This is nice little Chinese bakery in the hear...   \n",
       "1  St Honore Pastries  This is the bakery I usually go to in Chinatow...   \n",
       "2  St Honore Pastries  A delightful find in Chinatown! Very clean, an...   \n",
       "3  St Honore Pastries  I ordered a graduation cake for my niece and i...   \n",
       "4  St Honore Pastries  HK-STYLE MILK TEA:  FOUR STARS\\n\\nNot quite su...   \n",
       "\n",
       "   rating rating_category                       location  \n",
       "0     4.0        Positive  Philadelphia, PA, 935 Race St  \n",
       "1     4.0        Positive  Philadelphia, PA, 935 Race St  \n",
       "2     5.0        Positive  Philadelphia, PA, 935 Race St  \n",
       "3     5.0        Positive  Philadelphia, PA, 935 Race St  \n",
       "4     4.0        Positive  Philadelphia, PA, 935 Race St  "
      ],
      "text/html": [
       "<div>\n",
       "<style scoped>\n",
       "    .dataframe tbody tr th:only-of-type {\n",
       "        vertical-align: middle;\n",
       "    }\n",
       "\n",
       "    .dataframe tbody tr th {\n",
       "        vertical-align: top;\n",
       "    }\n",
       "\n",
       "    .dataframe thead th {\n",
       "        text-align: right;\n",
       "    }\n",
       "</style>\n",
       "<table border=\"1\" class=\"dataframe\">\n",
       "  <thead>\n",
       "    <tr style=\"text-align: right;\">\n",
       "      <th></th>\n",
       "      <th>restaurant_name</th>\n",
       "      <th>review</th>\n",
       "      <th>rating</th>\n",
       "      <th>rating_category</th>\n",
       "      <th>location</th>\n",
       "    </tr>\n",
       "  </thead>\n",
       "  <tbody>\n",
       "    <tr>\n",
       "      <th>0</th>\n",
       "      <td>St Honore Pastries</td>\n",
       "      <td>This is nice little Chinese bakery in the hear...</td>\n",
       "      <td>4.0</td>\n",
       "      <td>Positive</td>\n",
       "      <td>Philadelphia, PA, 935 Race St</td>\n",
       "    </tr>\n",
       "    <tr>\n",
       "      <th>1</th>\n",
       "      <td>St Honore Pastries</td>\n",
       "      <td>This is the bakery I usually go to in Chinatow...</td>\n",
       "      <td>4.0</td>\n",
       "      <td>Positive</td>\n",
       "      <td>Philadelphia, PA, 935 Race St</td>\n",
       "    </tr>\n",
       "    <tr>\n",
       "      <th>2</th>\n",
       "      <td>St Honore Pastries</td>\n",
       "      <td>A delightful find in Chinatown! Very clean, an...</td>\n",
       "      <td>5.0</td>\n",
       "      <td>Positive</td>\n",
       "      <td>Philadelphia, PA, 935 Race St</td>\n",
       "    </tr>\n",
       "    <tr>\n",
       "      <th>3</th>\n",
       "      <td>St Honore Pastries</td>\n",
       "      <td>I ordered a graduation cake for my niece and i...</td>\n",
       "      <td>5.0</td>\n",
       "      <td>Positive</td>\n",
       "      <td>Philadelphia, PA, 935 Race St</td>\n",
       "    </tr>\n",
       "    <tr>\n",
       "      <th>4</th>\n",
       "      <td>St Honore Pastries</td>\n",
       "      <td>HK-STYLE MILK TEA:  FOUR STARS\\n\\nNot quite su...</td>\n",
       "      <td>4.0</td>\n",
       "      <td>Positive</td>\n",
       "      <td>Philadelphia, PA, 935 Race St</td>\n",
       "    </tr>\n",
       "  </tbody>\n",
       "</table>\n",
       "</div>"
      ]
     },
     "execution_count": 5,
     "metadata": {},
     "output_type": "execute_result"
    }
   ],
   "execution_count": 5
  },
  {
   "metadata": {
    "ExecuteTime": {
     "end_time": "2025-08-30T12:37:43.299066Z",
     "start_time": "2025-08-30T12:37:43.292983Z"
    }
   },
   "cell_type": "code",
   "source": "df['review'][0]",
   "id": "acc81684c30380a4",
   "outputs": [
    {
     "data": {
      "text/plain": [
       "\"This is nice little Chinese bakery in the heart of Philadelphia's Chinatown! The female cashier was very friendly (flirtatious!) and the pastries shown in nicely adorned display cases. I stopped by early one evening had a sesame ball, which was filled with bean paste. The glutinous rice of the ball was nicely flavored, similar to Bai Tang Gao. Definitely as place worth stopping at if you are in the area.\""
      ]
     },
     "execution_count": 35,
     "metadata": {},
     "output_type": "execute_result"
    }
   ],
   "execution_count": 35
  },
  {
   "metadata": {
    "ExecuteTime": {
     "end_time": "2025-09-02T10:54:02.705891Z",
     "start_time": "2025-09-02T10:54:02.258759Z"
    }
   },
   "cell_type": "code",
   "source": [
    "# Step 1: Load the df into LlamaIndex as Document objects\n",
    "records = df.to_dict('records')\n",
    "documents = [\n",
    "    Document(\n",
    "        text=record['review'],\n",
    "        metadata={\n",
    "            'restaurant_name': record['restaurant_name'],\n",
    "            'review': record['review'],\n",
    "            'rating_category': record['rating_category'],\n",
    "            'rating': record['rating'],\n",
    "            'location': record['location'],\n",
    "        }\n",
    "        )\n",
    "    for record in records\n",
    "]"
   ],
   "id": "8dfb28cf29d1a74d",
   "outputs": [],
   "execution_count": 4
  },
  {
   "metadata": {
    "ExecuteTime": {
     "end_time": "2025-09-02T10:54:06.690399Z",
     "start_time": "2025-09-02T10:54:06.582608Z"
    }
   },
   "cell_type": "code",
   "source": [
    "# Step 2: Generate embeddings for the review field\n",
    "Settings.embed_model = OllamaEmbedding(\n",
    "    model_name=\"all-minilm:latest\",\n",
    "    base_url=\"http://localhost:11434\",\n",
    "    ollama_additional_kwargs={\"mirostat\": 0},\n",
    ")\n",
    "Settings.chunk_size = 2048"
   ],
   "id": "bdaa15abaeeac451",
   "outputs": [],
   "execution_count": 5
  },
  {
   "metadata": {
    "ExecuteTime": {
     "end_time": "2025-08-30T14:59:29.388176Z",
     "start_time": "2025-08-30T14:59:22.999218Z"
    }
   },
   "cell_type": "code",
   "source": [
    "# Use Huggingface embeddings\n",
    "# Settings.embed_model = HuggingFaceEmbedding(model_name=\"sentence-transformers/all-MiniLM-L6-v2\")\n",
    "# Settings.chunk_size = 2048  # Increase chunk size to handle large metadata"
   ],
   "id": "8d3fa492ae885218",
   "outputs": [],
   "execution_count": 11
  },
  {
   "metadata": {
    "ExecuteTime": {
     "end_time": "2025-09-02T09:51:30.757046Z",
     "start_time": "2025-09-02T09:51:30.675923Z"
    }
   },
   "cell_type": "code",
   "source": [
    "# Use Gemini embeddings\n",
    "# Settings.embed_model = GeminiEmbedding(model=\"models/text-embedding-004\", api_key=API_KEY)\n",
    "# Settings.chunk_size = 2048"
   ],
   "id": "1990c3b9af5d3d6",
   "outputs": [
    {
     "name": "stderr",
     "output_type": "stream",
     "text": [
      "/tmp/ipykernel_8498/2867704683.py:2: DeprecationWarning: Call to deprecated class GeminiEmbedding. (Should use `llama-index-embeddings-google-genai` instead, using Google's latest unified SDK. See: https://docs.llamaindex.ai/en/stable/examples/embeddings/google_genai/)\n",
      "  Settings.embed_model = GeminiEmbedding(model=\"models/text-embedding-004\", api_key=API_KEY)\n"
     ]
    }
   ],
   "execution_count": 7
  },
  {
   "metadata": {
    "ExecuteTime": {
     "end_time": "2025-09-02T10:54:10.839917Z",
     "start_time": "2025-09-02T10:54:10.829188Z"
    }
   },
   "cell_type": "code",
   "source": [
    "# Configure LlamaIndex vector store\n",
    "vector_store = ElasticsearchStore(\n",
    "    index_name='restaurant_reviews',\n",
    "    vector_field='review_vector',\n",
    "    text_field='review',\n",
    "    es_url='http://localhost:9200/')\n",
    "storage_context = StorageContext.from_defaults(vector_store=vector_store)"
   ],
   "id": "74c45dccd3d2fc0e",
   "outputs": [],
   "execution_count": 6
  },
  {
   "metadata": {
    "ExecuteTime": {
     "end_time": "2025-09-02T11:02:56.383150Z",
     "start_time": "2025-09-02T10:55:33.496475Z"
    }
   },
   "cell_type": "code",
   "source": [
    "# Index documents\n",
    "index = VectorStoreIndex.from_documents(documents, storage_context=storage_context)\n",
    "index.set_index_id(\"vector_index\")\n",
    "index.storage_context.persist(persist_dir=\"./storage\")"
   ],
   "id": "a665873cc0063b0b",
   "outputs": [],
   "execution_count": 12
  },
  {
   "metadata": {},
   "cell_type": "code",
   "outputs": [],
   "execution_count": null,
   "source": [
    "# Use this block later to load the storage\n",
    "# storage_context = StorageContext.from_defaults(persist_dir=\"./storage\")\n",
    "# index = load_index_from_storage(storage_context=storage_context, index_id=\"vector_index\")"
   ],
   "id": "78b7670b190a2d26"
  }
 ],
 "metadata": {
  "kernelspec": {
   "display_name": "Python 3",
   "language": "python",
   "name": "python3"
  },
  "language_info": {
   "codemirror_mode": {
    "name": "ipython",
    "version": 2
   },
   "file_extension": ".py",
   "mimetype": "text/x-python",
   "name": "python",
   "nbconvert_exporter": "python",
   "pygments_lexer": "ipython2",
   "version": "2.7.6"
  }
 },
 "nbformat": 4,
 "nbformat_minor": 5
}
